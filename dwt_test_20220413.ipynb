{
 "cells": [
  {
   "cell_type": "code",
   "execution_count": 3,
   "metadata": {},
   "outputs": [
    {
     "name": "stdout",
     "output_type": "stream",
     "text": [
      "[4 6]\n"
     ]
    }
   ],
   "source": [
    "import numpy as np\n",
    "a=np.array([[1,2],[3,4]])\n",
    "print(a.sum(axis=-2))"
   ]
  },
  {
   "cell_type": "code",
   "execution_count": 4,
   "metadata": {},
   "outputs": [
    {
     "name": "stdout",
     "output_type": "stream",
     "text": [
      "[3 7]\n"
     ]
    }
   ],
   "source": [
    "print(a.sum(axis=-1\n",
    "))"
   ]
  },
  {
   "cell_type": "code",
   "execution_count": 5,
   "metadata": {},
   "outputs": [
    {
     "name": "stdout",
     "output_type": "stream",
     "text": [
      "[4 6]\n"
     ]
    }
   ],
   "source": [
    "print(a.sum(axis=0))"
   ]
  },
  {
   "cell_type": "code",
   "execution_count": 6,
   "metadata": {},
   "outputs": [
    {
     "name": "stdout",
     "output_type": "stream",
     "text": [
      "[3 7]\n"
     ]
    }
   ],
   "source": [
    "print(a.sum(axis=1))"
   ]
  },
  {
   "cell_type": "code",
   "execution_count": 1,
   "metadata": {},
   "outputs": [],
   "source": [
    "import torch "
   ]
  },
  {
   "cell_type": "code",
   "execution_count": 14,
   "metadata": {},
   "outputs": [],
   "source": [
    "a = torch.rand(1,3,512,512)"
   ]
  },
  {
   "cell_type": "code",
   "execution_count": 15,
   "metadata": {},
   "outputs": [
    {
     "data": {
      "text/plain": [
       "torch.Size([1, 3, 512, 512])"
      ]
     },
     "execution_count": 15,
     "metadata": {},
     "output_type": "execute_result"
    }
   ],
   "source": [
    "a.shape"
   ]
  },
  {
   "cell_type": "code",
   "execution_count": 16,
   "metadata": {},
   "outputs": [
    {
     "data": {
      "text/plain": [
       "tensor([[[[0.6616, 0.7784, 0.1014,  ..., 0.4120, 0.6658, 0.9383],\n",
       "          [0.5257, 0.3312, 0.0446,  ..., 0.6945, 0.3237, 0.7911],\n",
       "          [0.0704, 0.5101, 0.7842,  ..., 0.5077, 0.2485, 0.5658],\n",
       "          ...,\n",
       "          [0.6309, 0.1194, 0.5943,  ..., 0.8037, 0.7980, 0.6825],\n",
       "          [0.5413, 0.0062, 0.9299,  ..., 0.4090, 0.4144, 0.9802],\n",
       "          [0.9025, 0.4116, 0.1664,  ..., 0.5779, 0.9547, 0.9414]],\n",
       "\n",
       "         [[0.2279, 0.5815, 0.8114,  ..., 0.9929, 0.6443, 0.3558],\n",
       "          [0.8307, 0.6985, 0.6566,  ..., 0.0238, 0.4705, 0.5809],\n",
       "          [0.9252, 0.4417, 0.0639,  ..., 0.0632, 0.6229, 0.1955],\n",
       "          ...,\n",
       "          [0.0773, 0.0703, 0.7999,  ..., 0.8509, 0.1764, 0.6824],\n",
       "          [0.1583, 0.9174, 0.5819,  ..., 0.0918, 0.8111, 0.2249],\n",
       "          [0.0219, 0.3675, 0.4836,  ..., 0.1700, 0.9814, 0.9465]],\n",
       "\n",
       "         [[0.4043, 0.4478, 0.9238,  ..., 0.2178, 0.1722, 0.6765],\n",
       "          [0.4022, 0.6700, 0.3808,  ..., 0.9229, 0.2579, 0.9786],\n",
       "          [0.6385, 0.5930, 0.6117,  ..., 0.8308, 0.6898, 0.0031],\n",
       "          ...,\n",
       "          [0.9455, 0.8566, 0.2814,  ..., 0.1441, 0.2604, 0.7930],\n",
       "          [0.5769, 0.5706, 0.1519,  ..., 0.7558, 0.2581, 0.0218],\n",
       "          [0.8279, 0.7841, 0.4708,  ..., 0.9784, 0.8565, 0.6940]]]])"
      ]
     },
     "execution_count": 16,
     "metadata": {},
     "output_type": "execute_result"
    }
   ],
   "source": [
    "a"
   ]
  },
  {
   "cell_type": "code",
   "execution_count": 17,
   "metadata": {},
   "outputs": [],
   "source": [
    "x01 = a[:, :, 0::2, :] / 2\n",
    "x02 = a[:, :, 1::2, :] / 2\n",
    "x1 = x01[:, :, :, 0::2]\n",
    "x2 = x02[:, :, :, 0::2]\n",
    "x3 = x01[:, :, :, 1::2]\n",
    "x4 = x02[:, :, :, 1::2]\n",
    "x_LL = x1 + x2 + x3 + x4\n",
    "x_HL = -x1 - x2 + x3 + x4\n",
    "x_LH = -x1 + x2 - x3 + x4\n",
    "x_HH = x1 - x2 - x3 + x4"
   ]
  },
  {
   "cell_type": "code",
   "execution_count": 22,
   "metadata": {},
   "outputs": [
    {
     "name": "stdout",
     "output_type": "stream",
     "text": [
      "torch.Size([1, 3, 256, 512])\n",
      "torch.Size([1, 3, 256, 512])\n",
      "torch.Size([1, 3, 256, 256])\n",
      "torch.Size([1, 3, 256, 256])\n",
      "torch.Size([1, 3, 256, 256])\n",
      "torch.Size([1, 3, 256, 256])\n",
      "-----\n",
      "torch.Size([1, 3, 256, 256])\n",
      "torch.Size([1, 3, 256, 256])\n",
      "torch.Size([1, 3, 256, 256])\n",
      "torch.Size([1, 3, 256, 256])\n"
     ]
    }
   ],
   "source": [
    "print(x01.shape)\n",
    "print(x02.shape)\n",
    "print(x1.shape)\n",
    "print(x2.shape)\n",
    "print(x3.shape)\n",
    "print(x4.shape)\n",
    "print(\"-----\")\n",
    "print(x_LL.shape)\n",
    "print(x_HL.shape)\n",
    "print(x_LH.shape)\n",
    "print(x_HH.shape)\n"
   ]
  },
  {
   "cell_type": "code",
   "execution_count": 11,
   "metadata": {},
   "outputs": [
    {
     "data": {
      "text/plain": [
       "tensor([[0.4988, 0.8461],\n",
       "        [0.8207, 0.2880],\n",
       "        [0.9009, 0.4139],\n",
       "        [0.4512, 0.7237],\n",
       "        [0.4084, 0.6981]])"
      ]
     },
     "execution_count": 11,
     "metadata": {},
     "output_type": "execute_result"
    }
   ],
   "source": [
    "a[:,1::3]"
   ]
  },
  {
   "cell_type": "code",
   "execution_count": null,
   "metadata": {},
   "outputs": [],
   "source": []
  }
 ],
 "metadata": {
  "interpreter": {
   "hash": "3c3950bbb9a950eb47d8a75acd6763af5a1f1384c3fdf1d037958b44751d1fbe"
  },
  "kernelspec": {
   "display_name": "Python 3.7.11 ('ellen': conda)",
   "language": "python",
   "name": "python3"
  },
  "language_info": {
   "codemirror_mode": {
    "name": "ipython",
    "version": 3
   },
   "file_extension": ".py",
   "mimetype": "text/x-python",
   "name": "python",
   "nbconvert_exporter": "python",
   "pygments_lexer": "ipython3",
   "version": "3.7.11"
  },
  "orig_nbformat": 4
 },
 "nbformat": 4,
 "nbformat_minor": 2
}
