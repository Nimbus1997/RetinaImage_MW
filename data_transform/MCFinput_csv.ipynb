{
 "cells": [
  {
   "cell_type": "markdown",
   "metadata": {},
   "source": [
    "## MCF net input - csv file generation"
   ]
  },
  {
   "cell_type": "code",
   "execution_count": 3,
   "metadata": {},
   "outputs": [],
   "source": [
    "image_path =\"/home/guest1/ellen_code/pytorch-CycleGAN-and-pix2pix/results/ellen_dwt_uresnet2_1_512n1000_0702/test_latest/images\"\n",
    "csv_filename=\"ellen_dwt_uresnet2_1_512n1000_0702\""
   ]
  },
  {
   "cell_type": "code",
   "execution_count": null,
   "metadata": {},
   "outputs": [],
   "source": [
    "import os\n",
    "import numpy as np\n",
    "import tqdm\n",
    "import pandas as pd\n",
    "\n",
    "csv_filepathname= \"../FIQA_csvfil/\"+csv_filename+\".csv\"\n",
    "for imagename in tqdm(os.listdir(image_path)):\n",
    "\n",
    "\n"
   ]
  }
 ],
 "metadata": {
  "kernelspec": {
   "display_name": "Python 3.7.11 ('ellen': conda)",
   "language": "python",
   "name": "python3"
  },
  "language_info": {
   "codemirror_mode": {
    "name": "ipython",
    "version": 3
   },
   "file_extension": ".py",
   "mimetype": "text/x-python",
   "name": "python",
   "nbconvert_exporter": "python",
   "pygments_lexer": "ipython3",
   "version": "3.7.11"
  },
  "orig_nbformat": 4,
  "vscode": {
   "interpreter": {
    "hash": "3c3950bbb9a950eb47d8a75acd6763af5a1f1384c3fdf1d037958b44751d1fbe"
   }
  }
 },
 "nbformat": 4,
 "nbformat_minor": 2
}
