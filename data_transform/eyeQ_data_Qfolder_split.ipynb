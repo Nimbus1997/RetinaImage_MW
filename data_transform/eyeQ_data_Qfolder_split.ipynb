{
 "cells": [
  {
   "cell_type": "markdown",
   "metadata": {},
   "source": [
    "\n",
    "# For EyeQ data useage  \n",
    "<할 것>  \n",
    "1. data/EyeQ/train_ori -> train 폴더안에 lq와 hq 구분해서 넣기\n",
    "2. lq와 hq는 EyeQ/data 폴더의 label.csv 파일 이용해서 구분\n",
    "3. 파일명은 그대로 하되, 끝에 dr degree도 붙여서 ex) 1_right_0.jpeg"
   ]
  },
  {
   "cell_type": "markdown",
   "metadata": {},
   "source": [
    "<순서>  \n",
    "1. module import, path 지정  \n",
    "train -> test 순으로 진행\n",
    "2. label.csv파일을 pandas-dataframe로 읽기\n",
    "3. 이미지 파일들 하나씩 가져와서 label dataframe에 있으면, 저장 - lq/hq구분하고, 뒤에 dr degree도 붙여서"
   ]
  },
  {
   "cell_type": "markdown",
   "metadata": {},
   "source": [
    "1. Module import, path 지정"
   ]
  },
  {
   "cell_type": "code",
   "execution_count": 4,
   "metadata": {},
   "outputs": [],
   "source": [
    "import os\n",
    "import numpy as np\n",
    "from tqdm import tqdm\n",
    "import pandas as pd"
   ]
  },
  {
   "cell_type": "code",
   "execution_count": 5,
   "metadata": {},
   "outputs": [],
   "source": [
    "train_csv_path = \"/home/jieunoh/EyeQ/data/Label_EyeQ_train.csv\"\n",
    "test_csv_path = \"/home/jieunoh/EyeQ/data/Label_EyeQ_test.csv\"\n",
    "\n",
    "trainori_data_path = \"/home/jieunoh/data/EyeQ/train_ori\"\n",
    "testori_data_path = \"/home/jieunoh/data/EyeQ/test_ori\"\n",
    "\n",
    "train_data_path = \"/home/jieunoh/data/EyeQ/train\"\n",
    "test_data_path = \"/home/jieunoh/data/EyeQ/test\""
   ]
  },
  {
   "cell_type": "markdown",
   "metadata": {},
   "source": [
    "2. label - pandas dataframe으로 읽어오기"
   ]
  },
  {
   "cell_type": "code",
   "execution_count": null,
   "metadata": {},
   "outputs": [],
   "source": []
  }
 ],
 "metadata": {
  "kernelspec": {
   "display_name": "Python 3.8.10 64-bit",
   "language": "python",
   "name": "python3"
  },
  "language_info": {
   "codemirror_mode": {
    "name": "ipython",
    "version": 3
   },
   "file_extension": ".py",
   "mimetype": "text/x-python",
   "name": "python",
   "nbconvert_exporter": "python",
   "pygments_lexer": "ipython3",
   "version": "3.8.10"
  },
  "orig_nbformat": 4,
  "vscode": {
   "interpreter": {
    "hash": "31f2aee4e71d21fbe5cf8b01ff0e069b9275f58929596ceb00d14d90e3e16cd6"
   }
  }
 },
 "nbformat": 4,
 "nbformat_minor": 2
}
