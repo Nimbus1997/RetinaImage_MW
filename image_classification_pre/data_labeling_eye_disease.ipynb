{
 "cells": [
  {
   "cell_type": "markdown",
   "metadata": {},
   "source": [
    "## UKB_eye_disease.csv 를 이용해서 label달기\n",
    "1. csv파일 총 image수 확인\n",
    "2. csv파일에 있는 image들 hq들만 있는지 확인(lq, hq 다 있어야함)  \n",
    "      ==> hq만 334개, lq는 없음\n",
    "3. hq들중에서만 label 달아서(다정상:0, 하나라도 비정상:1) csv파일로 저장"
   ]
  },
  {
   "cell_type": "code",
   "execution_count": 4,
   "metadata": {},
   "outputs": [],
   "source": [
    "import pandas as pd\n",
    "import numpy as np\n",
    "import os"
   ]
  },
  {
   "cell_type": "markdown",
   "metadata": {},
   "source": [
    "#### 0. highq, lowq이미지 numpy 각각 만들기"
   ]
  },
  {
   "cell_type": "code",
   "execution_count": 5,
   "metadata": {},
   "outputs": [
    {
     "name": "stdout",
     "output_type": "stream",
     "text": [
      "8020\n"
     ]
    }
   ],
   "source": [
    "path = \"/home/guest1/ellen_data/UKB_quality_data2_combined\"\n",
    "\n",
    "high =[]\n",
    "for img in os.listdir(path+\"/\"+\"high_Q\"):\n",
    "    # print(img)\n",
    "    high +=[img]\n",
    "\n",
    "print(len(high))\n",
    "\n",
    "high_ar = np.array(high)\n",
    "np.save(\"./high_name\",high_ar)\n",
    "    "
   ]
  },
  {
   "cell_type": "code",
   "execution_count": 6,
   "metadata": {},
   "outputs": [
    {
     "name": "stdout",
     "output_type": "stream",
     "text": [
      "2526\n"
     ]
    }
   ],
   "source": [
    "path = \"/home/guest1/ellen_data/UKB_quality_data2_combined\"\n",
    "\n",
    "low =[]\n",
    "for img in os.listdir(path+\"/\"+\"low_Q\"):\n",
    "    # print(img)\n",
    "    low +=[img]\n",
    "\n",
    "print(len(low))\n",
    "low_ar = np.array(low)\n",
    "np.save(\"./low_name\",low_ar)\n",
    "    "
   ]
  },
  {
   "cell_type": "markdown",
   "metadata": {},
   "source": [
    "#### 1. csv 파일 총 image 수 확인"
   ]
  },
  {
   "cell_type": "code",
   "execution_count": 7,
   "metadata": {},
   "outputs": [],
   "source": [
    "eye_label = pd.read_csv(\"/home/guest1/UKB_eye_disease.csv\")"
   ]
  },
  {
   "cell_type": "code",
   "execution_count": 8,
   "metadata": {},
   "outputs": [
    {
     "name": "stdout",
     "output_type": "stream",
     "text": [
      "2690\n"
     ]
    }
   ],
   "source": [
    "df_len = len(eye_label)\n",
    "print(df_len)\n",
    "# 현재 cycle GAN input data는 그것보다 훨씬 많은 숫자. \n",
    "# 아마다 high quality data에 대해서만 label 이 있는 듯. check 필요 \n",
    "# high Q: 2,288 -> 8,019 \n",
    "# low Q:  910 -> 2,525 "
   ]
  },
  {
   "cell_type": "markdown",
   "metadata": {},
   "source": [
    "#### 2. csv파일에 있는 이미지들 어디에 있는 것인지 확인 & abnormal disease있는지 확인\n",
    "hl_csv의 열 (1) image name, (2) high, (3) low (4) diesease - 하나라도 abnormal이면 True"
   ]
  },
  {
   "cell_type": "code",
   "execution_count": 22,
   "metadata": {},
   "outputs": [],
   "source": [
    "hl_csv = pd.DataFrame(columns=['image', \"high\", \"low\", \"disease\"])\n",
    "for i in range(df_len):\n",
    "    h=l=0                           \n",
    "    imagename = eye_label.iloc[i,0]\n",
    "    disease = np.array(eye_label.iloc[i,1:4])\n",
    "    disease_tf = 'abnormal' in disease\n",
    "    # print(imagename)\n",
    "    hl_csv.loc[i] =[imagename, imagename in high, imagename in low, disease_tf]"
   ]
  },
  {
   "cell_type": "code",
   "execution_count": 10,
   "metadata": {},
   "outputs": [
    {
     "name": "stdout",
     "output_type": "stream",
     "text": [
      "2690\n",
      "True\n"
     ]
    }
   ],
   "source": [
    "print(len(hl_csv))\n",
    "print(len(hl_csv)==df_len)"
   ]
  },
  {
   "cell_type": "markdown",
   "metadata": {},
   "source": [
    "UKB_quality_data & UKB_quality_data2 합친 것 (UKB_quality_data2_combined)에 포함되어있는 데이터  \n",
    "즉, quality data 중 질병 label이 있는 것"
   ]
  },
  {
   "cell_type": "code",
   "execution_count": 11,
   "metadata": {},
   "outputs": [
    {
     "name": "stdout",
     "output_type": "stream",
     "text": [
      " # of high quality data in 'eye_lable':  334\n",
      " # of low quality data in 'eye_lable':  0\n"
     ]
    }
   ],
   "source": [
    "print(\" # of high quality data in 'eye_lable': \" ,len(hl_csv[hl_csv['high'] ==True]))\n",
    "print(\" # of low quality data in 'eye_lable': \" ,len(hl_csv[hl_csv['low'] ==True]))"
   ]
  },
  {
   "cell_type": "markdown",
   "metadata": {},
   "source": [
    "quality data 중 label된 것 (high q만 있음) 중에 disease가 하나라도 있는 것"
   ]
  },
  {
   "cell_type": "code",
   "execution_count": 27,
   "metadata": {},
   "outputs": [
    {
     "name": "stdout",
     "output_type": "stream",
     "text": [
      "hq이면서, disease를 가진 것:  22\n"
     ]
    }
   ],
   "source": [
    "high_disease = hl_csv[(hl_csv['high'] ==True) & (hl_csv['disease']==True)]\n",
    "print(\"hq이면서, disease를 가진 것: \", len(high_disease))"
   ]
  },
  {
   "cell_type": "markdown",
   "metadata": {},
   "source": [
    "#### 2-1. csv파일 내 하나라도 abnormal인 것  \n",
    "abnormal, column는 eye_label과 그대로"
   ]
  },
  {
   "cell_type": "code",
   "execution_count": 12,
   "metadata": {},
   "outputs": [
    {
     "data": {
      "text/html": [
       "<div>\n",
       "<style scoped>\n",
       "    .dataframe tbody tr th:only-of-type {\n",
       "        vertical-align: middle;\n",
       "    }\n",
       "\n",
       "    .dataframe tbody tr th {\n",
       "        vertical-align: top;\n",
       "    }\n",
       "\n",
       "    .dataframe thead th {\n",
       "        text-align: right;\n",
       "    }\n",
       "</style>\n",
       "<table border=\"1\" class=\"dataframe\">\n",
       "  <thead>\n",
       "    <tr style=\"text-align: right;\">\n",
       "      <th></th>\n",
       "      <th>filename</th>\n",
       "      <th>retina</th>\n",
       "      <th>cataract</th>\n",
       "      <th>glaucoma</th>\n",
       "      <th>url</th>\n",
       "    </tr>\n",
       "  </thead>\n",
       "  <tbody>\n",
       "    <tr>\n",
       "      <th>4</th>\n",
       "      <td>5188604_21015_0_0.png</td>\n",
       "      <td>abnormal</td>\n",
       "      <td>normal</td>\n",
       "      <td>normal</td>\n",
       "      <td>https://dtw4kza58cxg1.cloudfront.net/productio...</td>\n",
       "    </tr>\n",
       "    <tr>\n",
       "      <th>17</th>\n",
       "      <td>4700146_21015_0_0.png</td>\n",
       "      <td>normal</td>\n",
       "      <td>abnormal</td>\n",
       "      <td>normal</td>\n",
       "      <td>https://dtw4kza58cxg1.cloudfront.net/productio...</td>\n",
       "    </tr>\n",
       "    <tr>\n",
       "      <th>19</th>\n",
       "      <td>3888001_21015_0_0.png</td>\n",
       "      <td>abnormal</td>\n",
       "      <td>normal</td>\n",
       "      <td>normal</td>\n",
       "      <td>https://dtw4kza58cxg1.cloudfront.net/productio...</td>\n",
       "    </tr>\n",
       "    <tr>\n",
       "      <th>22</th>\n",
       "      <td>3393528_21015_0_0.png</td>\n",
       "      <td>abnormal</td>\n",
       "      <td>normal</td>\n",
       "      <td>normal</td>\n",
       "      <td>https://dtw4kza58cxg1.cloudfront.net/productio...</td>\n",
       "    </tr>\n",
       "    <tr>\n",
       "      <th>29</th>\n",
       "      <td>5971785_21015_0_0.png</td>\n",
       "      <td>normal</td>\n",
       "      <td>abnormal</td>\n",
       "      <td>normal</td>\n",
       "      <td>https://dtw4kza58cxg1.cloudfront.net/productio...</td>\n",
       "    </tr>\n",
       "    <tr>\n",
       "      <th>...</th>\n",
       "      <td>...</td>\n",
       "      <td>...</td>\n",
       "      <td>...</td>\n",
       "      <td>...</td>\n",
       "      <td>...</td>\n",
       "    </tr>\n",
       "    <tr>\n",
       "      <th>2647</th>\n",
       "      <td>3984805_21016_0_0.png</td>\n",
       "      <td>abnormal</td>\n",
       "      <td>normal</td>\n",
       "      <td>normal</td>\n",
       "      <td>https://dtw4kza58cxg1.cloudfront.net/productio...</td>\n",
       "    </tr>\n",
       "    <tr>\n",
       "      <th>2661</th>\n",
       "      <td>1335810_21016_0_0.png</td>\n",
       "      <td>abnormal</td>\n",
       "      <td>normal</td>\n",
       "      <td>normal</td>\n",
       "      <td>https://dtw4kza58cxg1.cloudfront.net/productio...</td>\n",
       "    </tr>\n",
       "    <tr>\n",
       "      <th>2662</th>\n",
       "      <td>2244317_21016_0_0.png</td>\n",
       "      <td>normal</td>\n",
       "      <td>normal</td>\n",
       "      <td>abnormal</td>\n",
       "      <td>https://dtw4kza58cxg1.cloudfront.net/productio...</td>\n",
       "    </tr>\n",
       "    <tr>\n",
       "      <th>2681</th>\n",
       "      <td>3756921_21016_0_0.png</td>\n",
       "      <td>normal</td>\n",
       "      <td>abnormal</td>\n",
       "      <td>normal</td>\n",
       "      <td>https://dtw4kza58cxg1.cloudfront.net/productio...</td>\n",
       "    </tr>\n",
       "    <tr>\n",
       "      <th>2687</th>\n",
       "      <td>4591241_21016_0_0.png</td>\n",
       "      <td>abnormal</td>\n",
       "      <td>normal</td>\n",
       "      <td>normal</td>\n",
       "      <td>https://dtw4kza58cxg1.cloudfront.net/productio...</td>\n",
       "    </tr>\n",
       "  </tbody>\n",
       "</table>\n",
       "<p>257 rows × 5 columns</p>\n",
       "</div>"
      ],
      "text/plain": [
       "                   filename    retina  cataract  glaucoma  \\\n",
       "4     5188604_21015_0_0.png  abnormal    normal    normal   \n",
       "17    4700146_21015_0_0.png    normal  abnormal    normal   \n",
       "19    3888001_21015_0_0.png  abnormal    normal    normal   \n",
       "22    3393528_21015_0_0.png  abnormal    normal    normal   \n",
       "29    5971785_21015_0_0.png    normal  abnormal    normal   \n",
       "...                     ...       ...       ...       ...   \n",
       "2647  3984805_21016_0_0.png  abnormal    normal    normal   \n",
       "2661  1335810_21016_0_0.png  abnormal    normal    normal   \n",
       "2662  2244317_21016_0_0.png    normal    normal  abnormal   \n",
       "2681  3756921_21016_0_0.png    normal  abnormal    normal   \n",
       "2687  4591241_21016_0_0.png  abnormal    normal    normal   \n",
       "\n",
       "                                                    url  \n",
       "4     https://dtw4kza58cxg1.cloudfront.net/productio...  \n",
       "17    https://dtw4kza58cxg1.cloudfront.net/productio...  \n",
       "19    https://dtw4kza58cxg1.cloudfront.net/productio...  \n",
       "22    https://dtw4kza58cxg1.cloudfront.net/productio...  \n",
       "29    https://dtw4kza58cxg1.cloudfront.net/productio...  \n",
       "...                                                 ...  \n",
       "2647  https://dtw4kza58cxg1.cloudfront.net/productio...  \n",
       "2661  https://dtw4kza58cxg1.cloudfront.net/productio...  \n",
       "2662  https://dtw4kza58cxg1.cloudfront.net/productio...  \n",
       "2681  https://dtw4kza58cxg1.cloudfront.net/productio...  \n",
       "2687  https://dtw4kza58cxg1.cloudfront.net/productio...  \n",
       "\n",
       "[257 rows x 5 columns]"
      ]
     },
     "execution_count": 12,
     "metadata": {},
     "output_type": "execute_result"
    }
   ],
   "source": [
    "abnormal = eye_label[(eye_label[\"retina\"]==\"abnormal\")| (eye_label[\"cataract\"]==\"abnormal\") | (eye_label['glaucoma']=='abnormal')]\n",
    "abnormal"
   ]
  }
 ],
 "metadata": {
  "kernelspec": {
   "display_name": "Python 3.7.11 ('ellen')",
   "language": "python",
   "name": "python3"
  },
  "language_info": {
   "codemirror_mode": {
    "name": "ipython",
    "version": 3
   },
   "file_extension": ".py",
   "mimetype": "text/x-python",
   "name": "python",
   "nbconvert_exporter": "python",
   "pygments_lexer": "ipython3",
   "version": "3.7.11"
  },
  "orig_nbformat": 4,
  "vscode": {
   "interpreter": {
    "hash": "3c3950bbb9a950eb47d8a75acd6763af5a1f1384c3fdf1d037958b44751d1fbe"
   }
  }
 },
 "nbformat": 4,
 "nbformat_minor": 2
}
