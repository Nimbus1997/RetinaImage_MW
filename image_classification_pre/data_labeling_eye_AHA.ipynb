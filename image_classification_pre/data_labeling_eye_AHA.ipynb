{
 "cells": [
  {
   "cell_type": "markdown",
   "metadata": {},
   "source": [
    "---\n",
    "# UKB_AHA_event_.csv 를 이용해서 label달기\n",
    "### AHA는 eid이용\n",
    "1. csv파일 총 image수 확인\n",
    "2. csv파일에 있는 image들 hq들만 있는지 확인(lq, hq 다 있어야함)  \n",
    "--> HL, LQ에는 없음  \n",
    "--> ALL에는 \n",
    "3. label 달아서(다정상:0, 하나라도 비정상:1) csv파일로 저장"
   ]
  },
  {
   "cell_type": "code",
   "execution_count": 1,
   "metadata": {},
   "outputs": [],
   "source": [
    "import pandas as pd\n",
    "import numpy as np\n",
    "import os\n",
    "from tqdm import tqdm"
   ]
  },
  {
   "cell_type": "markdown",
   "metadata": {},
   "source": [
    "---\n",
    "#### 0. UKB_fundus_ALL_nolabel 의 이미지명 (all_name)과 eid (all_eid)를 저장"
   ]
  },
  {
   "cell_type": "code",
   "execution_count": null,
   "metadata": {},
   "outputs": [],
   "source": [
    "path = \"/home/guest1/UKB_fundus_ALL_nolabel\"\n",
    "all = []\n",
    "all_eid = set()\n",
    "for img in tqdm(os.listdir(path)):\n",
    "    all.append(img)\n",
    "    eid = img.split(\"_\")[0]\n",
    "    all_eid.add(eid)\n",
    "all_ar = np.array(all)\n",
    "all_eid_ar = np.array(all_eid)\n",
    "\n",
    "np.save(\"./all_name\",all_ar)\n",
    "np.save(\"./all_eid\",all_eid_ar)\n",
    "\n",
    "print(\"all file 개수: \", len(all))\n",
    "print(\"name unique 개수: \", len(set(all)))\n",
    "print(\"eid unique 개수: \", len(all_eid))"
   ]
  },
  {
   "cell_type": "markdown",
   "metadata": {},
   "source": [
    "---\n",
    "#### 0. highq, lowq이미지 numpy 각각 만들기"
   ]
  },
  {
   "cell_type": "code",
   "execution_count": 2,
   "metadata": {},
   "outputs": [
    {
     "name": "stdout",
     "output_type": "stream",
     "text": [
      "8020\n"
     ]
    }
   ],
   "source": [
    "path = \"/home/guest1/ellen_data/UKB_quality_data2_combined\"\n",
    "\n",
    "high =[]\n",
    "for img in os.listdir(path+\"/\"+\"high_Q\"):\n",
    "    # print(img)\n",
    "    high +=[img]\n",
    "\n",
    "print(len(high))\n",
    "\n",
    "high_ar = np.array(high)\n",
    "np.save(\"./high_name\",high_ar)\n",
    "    "
   ]
  },
  {
   "cell_type": "code",
   "execution_count": 3,
   "metadata": {},
   "outputs": [
    {
     "name": "stdout",
     "output_type": "stream",
     "text": [
      "2526\n"
     ]
    }
   ],
   "source": [
    "path = \"/home/guest1/ellen_data/UKB_quality_data2_combined\"\n",
    "\n",
    "low =[]\n",
    "for img in os.listdir(path+\"/\"+\"low_Q\"):\n",
    "    # print(img)\n",
    "    low +=[img]\n",
    "\n",
    "print(len(low))\n",
    "low_ar = np.array(low)\n",
    "np.save(\"./low_name\",low_ar)\n",
    "    "
   ]
  },
  {
   "cell_type": "markdown",
   "metadata": {},
   "source": [
    "#### 0-1. high, low 에서 eid만 뽑아오기"
   ]
  },
  {
   "cell_type": "code",
   "execution_count": 4,
   "metadata": {},
   "outputs": [
    {
     "name": "stdout",
     "output_type": "stream",
     "text": [
      "8020\n"
     ]
    }
   ],
   "source": [
    "high_eid=[]\n",
    "count =0\n",
    "for imgname in high:\n",
    "   eid=imgname.split(\"_\")[0]\n",
    "   high_eid +=[eid]\n",
    "print(len(high_eid))\n",
    "\n",
    "high_eid_ar = np.array(high_eid)\n",
    "np.save(\"./high_eid\",high_eid_ar)\n"
   ]
  },
  {
   "cell_type": "code",
   "execution_count": 5,
   "metadata": {},
   "outputs": [
    {
     "name": "stdout",
     "output_type": "stream",
     "text": [
      "2526\n"
     ]
    }
   ],
   "source": [
    "low_eid=[]\n",
    "count =0\n",
    "for imgname in low:\n",
    "   eid=imgname.split(\"_\")[0]\n",
    "   low_eid +=[eid]\n",
    "print(len(low_eid))\n",
    "\n",
    "low_eid_ar = np.array(low_eid)\n",
    "np.save(\"./low_eid\",low_eid_ar)\n"
   ]
  },
  {
   "cell_type": "markdown",
   "metadata": {},
   "source": [
    "#### 0-2. high, low 에서 eid 쭝복된 것 있는지  \n",
    "--> 중복된 것 존재"
   ]
  },
  {
   "cell_type": "code",
   "execution_count": 6,
   "metadata": {},
   "outputs": [
    {
     "name": "stdout",
     "output_type": "stream",
     "text": [
      "False\n",
      "8020\n",
      "7588\n"
     ]
    }
   ],
   "source": [
    "high_eid_set = set(high_eid)\n",
    "print(len(high_eid_set) == len(high_eid))\n",
    "print(len(high_eid))\n",
    "print(len(high_eid_set))"
   ]
  },
  {
   "cell_type": "code",
   "execution_count": 7,
   "metadata": {},
   "outputs": [
    {
     "name": "stdout",
     "output_type": "stream",
     "text": [
      "False\n",
      "2526\n",
      "2443\n"
     ]
    }
   ],
   "source": [
    "low_eid_set = set(low_eid)\n",
    "print(len(low_eid_set) == len(low_eid))\n",
    "print(len(low_eid))\n",
    "print(len(low_eid_set))"
   ]
  },
  {
   "cell_type": "markdown",
   "metadata": {},
   "source": [
    "---\n",
    "#### 1. csv 파일 총 image 수 확인   \n",
    "--> csv파일의 eid는 중복 없음"
   ]
  },
  {
   "cell_type": "code",
   "execution_count": 8,
   "metadata": {},
   "outputs": [],
   "source": [
    "aha_df = pd.read_csv(\"/home/guest1/UKB_AHA_event.csv\")"
   ]
  },
  {
   "cell_type": "code",
   "execution_count": 9,
   "metadata": {},
   "outputs": [
    {
     "name": "stdout",
     "output_type": "stream",
     "text": [
      "67288\n",
      ">>> image 명(eid) 중복 없음\n"
     ]
    }
   ],
   "source": [
    "df_len = len(aha_df)\n",
    "print(df_len)\n",
    "# 현재 cycle GAN input data는 그것보다 훨씬 많은 숫자. \n",
    "# 아마다 high quality data에 대해서만 label 이 있는 듯. check 필요 \n",
    "# high Q: 2,288 -> 8,019 \n",
    "# low Q:  910 -> 2,525 \n",
    "\n",
    "aha_df.drop_duplicates()\n",
    "if df_len ==len(aha_df):\n",
    "    print(\">>> image 명(eid) 중복 없음\")\n",
    "else: \n",
    "    print(\">>> image 명(eid) 중복 있음!!!\")"
   ]
  },
  {
   "cell_type": "markdown",
   "metadata": {},
   "source": [
    "1-1. 중복된 image명 있는지 확인\n"
   ]
  },
  {
   "cell_type": "code",
   "execution_count": 10,
   "metadata": {},
   "outputs": [
    {
     "name": "stdout",
     "output_type": "stream",
     "text": [
      "67288\n",
      ">>> image 명(eid) 중복 없음\n"
     ]
    }
   ],
   "source": [
    "aha_df.drop_duplicates([\"eid\"])\n",
    "print(len(aha_df))\n",
    "if df_len ==len(aha_df):\n",
    "    print(\">>> image 명(eid) 중복 없음\")\n",
    "else: \n",
    "    print(\">>> image 명(eid) 중복 있음!!!\")"
   ]
  },
  {
   "cell_type": "markdown",
   "metadata": {},
   "source": [
    "---\n",
    "#### 2. csv파일에 있는 이미지들 어디에 있는 것인지 확인 - h,l\n",
    "hl_csv의 열 (1) eid, (2) high, (3) low (4) AHA_event  \n",
    "아래 block 실행하는데 오래 걸림"
   ]
  },
  {
   "cell_type": "code",
   "execution_count": 17,
   "metadata": {},
   "outputs": [
    {
     "name": "stdout",
     "output_type": "stream",
     "text": [
      "Collecting tqdm\n",
      "  Downloading tqdm-4.64.0-py2.py3-none-any.whl (78 kB)\n",
      "\u001b[2K     \u001b[90m━━━━━━━━━━━━━━━━━━━━━━━━━━━━━━━━━━━━━━━━\u001b[0m \u001b[32m78.4/78.4 kB\u001b[0m \u001b[31m8.6 MB/s\u001b[0m eta \u001b[36m0:00:00\u001b[0m\n",
      "\u001b[?25hInstalling collected packages: tqdm\n",
      "Successfully installed tqdm-4.64.0\n"
     ]
    }
   ],
   "source": [
    "!pip install tqdm"
   ]
  },
  {
   "cell_type": "code",
   "execution_count": 18,
   "metadata": {},
   "outputs": [],
   "source": [
    "import time\n",
    "from tqdm import tqdm"
   ]
  },
  {
   "cell_type": "code",
   "execution_count": 19,
   "metadata": {},
   "outputs": [
    {
     "name": "stderr",
     "output_type": "stream",
     "text": [
      "100%|██████████| 67288/67288 [13:21<00:00, 83.98it/s]\n"
     ]
    }
   ],
   "source": [
    "hl_csv = pd.DataFrame(columns=['eid', \"high\", \"low\", \"AHA_event\"])\n",
    "for i in tqdm(range(df_len)):\n",
    "    h=l=0                           \n",
    "    eid = aha_df.iloc[i,0]\n",
    "    disease = aha_df.iloc[i,1]\n",
    "    hl_csv.loc[i] =[eid, eid in high_eid, eid in low_eid, disease]"
   ]
  },
  {
   "cell_type": "code",
   "execution_count": 22,
   "metadata": {},
   "outputs": [],
   "source": [
    "hl_csv.to_csv(\"./AHA_hqlq.cvs\")"
   ]
  },
  {
   "cell_type": "code",
   "execution_count": 23,
   "metadata": {},
   "outputs": [
    {
     "name": "stdout",
     "output_type": "stream",
     "text": [
      "67288\n",
      "True\n"
     ]
    }
   ],
   "source": [
    "print(len(hl_csv))\n",
    "print(len(hl_csv)==df_len)"
   ]
  },
  {
   "cell_type": "markdown",
   "metadata": {},
   "source": [
    "UKB_quality_data & UKB_quality_data2 합친 것 (UKB_quality_data2_combined)에 포함되어있는 데이터  \n",
    "즉, quality data 중 AHA label이 있는 것"
   ]
  },
  {
   "cell_type": "code",
   "execution_count": 25,
   "metadata": {},
   "outputs": [
    {
     "name": "stdout",
     "output_type": "stream",
     "text": [
      " # of high quality data in 'eye_label':  0\n",
      " # of low quality data in 'eye_label':  0\n"
     ]
    }
   ],
   "source": [
    "print(\" # of high quality data in 'eye_label': \" ,len(hl_csv[hl_csv['high'] ==True]))\n",
    "print(\" # of low quality data in 'eye_label': \" ,len(hl_csv[hl_csv['low'] ==True]))"
   ]
  },
  {
   "cell_type": "markdown",
   "metadata": {},
   "source": [
    "---\n",
    "#### 2-1. csv파일에 있는 이미지들 어디에 있는 것인지 확인 - all"
   ]
  },
  {
   "cell_type": "code",
   "execution_count": 39,
   "metadata": {},
   "outputs": [
    {
     "name": "stderr",
     "output_type": "stream",
     "text": [
      "100%|██████████| 67288/67288 [00:01<00:00, 40994.37it/s]"
     ]
    },
    {
     "name": "stdout",
     "output_type": "stream",
     "text": [
      "file in ALL:  0 / 67288\n"
     ]
    },
    {
     "name": "stderr",
     "output_type": "stream",
     "text": [
      "\n"
     ]
    }
   ],
   "source": [
    "count =0\n",
    "for i in tqdm(range(df_len)):\n",
    "    \n",
    "    eid = aha_df.iloc[i,0]\n",
    "    if eid in all_eid_ar:\n",
    "        count+=1\n",
    "print(\"file in ALL: \",count,\"/\",df_len)"
   ]
  },
  {
   "cell_type": "code",
   "execution_count": 44,
   "metadata": {},
   "outputs": [
    {
     "data": {
      "text/plain": [
       "True"
      ]
     },
     "execution_count": 44,
     "metadata": {},
     "output_type": "execute_result"
    }
   ],
   "source": [
    "\"3243656\" in all_eid"
   ]
  },
  {
   "cell_type": "code",
   "execution_count": 46,
   "metadata": {},
   "outputs": [
    {
     "data": {
      "text/plain": [
       "85711"
      ]
     },
     "execution_count": 46,
     "metadata": {},
     "output_type": "execute_result"
    }
   ],
   "source": [
    "len(all_eid)"
   ]
  }
 ],
 "metadata": {
  "kernelspec": {
   "display_name": "Python 3.7.11 ('ellen')",
   "language": "python",
   "name": "python3"
  },
  "language_info": {
   "codemirror_mode": {
    "name": "ipython",
    "version": 3
   },
   "file_extension": ".py",
   "mimetype": "text/x-python",
   "name": "python",
   "nbconvert_exporter": "python",
   "pygments_lexer": "ipython3",
   "version": "3.7.11"
  },
  "orig_nbformat": 4,
  "vscode": {
   "interpreter": {
    "hash": "3c3950bbb9a950eb47d8a75acd6763af5a1f1384c3fdf1d037958b44751d1fbe"
   }
  }
 },
 "nbformat": 4,
 "nbformat_minor": 2
}
