{
 "cells": [
  {
   "cell_type": "markdown",
   "metadata": {},
   "source": [
    "---\n",
    "# UKB_AHA_event_.csv 를 이용해서 label달기\n",
    "### AHA는 eid이용\n",
    "1. csv파일 총 image수 확인\n",
    "2. csv파일에 있는 image들 hq들만 있는지 확인(lq, hq 다 있어야함)  \n",
    "--> HL, LQ에는 없음  \n",
    "--> ALL에는 \n",
    "3. label 달아서(다정상:0, 하나라도 비정상:1) csv파일로 저장"
   ]
  },
  {
   "cell_type": "code",
   "execution_count": 1,
   "metadata": {},
   "outputs": [],
   "source": [
    "import pandas as pd\n",
    "import numpy as np\n",
    "import os\n",
    "from tqdm import tqdm"
   ]
  },
  {
   "cell_type": "markdown",
   "metadata": {},
   "source": [
    "---\n",
    "#### 0. UKB_fundus_ALL_nolabel 의 이미지명 (all_name)과 eid (all_eid)를 저장"
   ]
  },
  {
   "cell_type": "code",
   "execution_count": 71,
   "metadata": {},
   "outputs": [
    {
     "name": "stderr",
     "output_type": "stream",
     "text": [
      "100%|██████████| 175796/175796 [00:00<00:00, 1724139.07it/s]"
     ]
    },
    {
     "name": "stdout",
     "output_type": "stream",
     "text": [
      "all file 개수:  175796\n",
      "name unique 개수:  175796\n",
      "eid unique 개수:  85711\n"
     ]
    },
    {
     "name": "stderr",
     "output_type": "stream",
     "text": [
      "\n"
     ]
    }
   ],
   "source": [
    "path = \"/home/guest1/UKB_fundus_ALL_nolabel\"\n",
    "all = []\n",
    "all_eid = set()\n",
    "for img in tqdm(os.listdir(path)):\n",
    "    all.append(img)\n",
    "    eid = img.split(\"_\")[0]\n",
    "    all_eid.add(eid)\n",
    "all_ar = np.array(all)\n",
    "all_eid_ar = np.array(list(all_eid))\n",
    "\n",
    "np.save(\"./all_name\",all_ar)\n",
    "np.save(\"./all_eid\",all_eid_ar)\n",
    "\n",
    "print(\"all file 개수: \", len(all))\n",
    "print(\"name unique 개수: \", len(set(all)))\n",
    "print(\"eid unique 개수: \", len(all_eid))"
   ]
  },
  {
   "cell_type": "code",
   "execution_count": 72,
   "metadata": {},
   "outputs": [
    {
     "name": "stdout",
     "output_type": "stream",
     "text": [
      "total length of all_eid_array:  85711\n",
      "example:  ['3323759' '3591873' '2115657' '4661417' '1682695']\n"
     ]
    }
   ],
   "source": [
    "print(\"total length of all_eid_array: \",len(all_eid_ar))\n",
    "print(\"example: \", all_eid_ar[0:5])"
   ]
  },
  {
   "cell_type": "markdown",
   "metadata": {},
   "source": [
    "---\n",
    "#### 0. highq, lowq이미지 numpy 각각 만들기"
   ]
  },
  {
   "cell_type": "code",
   "execution_count": 2,
   "metadata": {},
   "outputs": [
    {
     "name": "stdout",
     "output_type": "stream",
     "text": [
      "8020\n"
     ]
    }
   ],
   "source": [
    "path = \"/home/guest1/ellen_data/UKB_quality_data2_combined\"\n",
    "\n",
    "high =[]\n",
    "for img in os.listdir(path+\"/\"+\"high_Q\"):\n",
    "    # print(img)\n",
    "    high +=[img]\n",
    "\n",
    "print(len(high))\n",
    "\n",
    "high_ar = np.array(high)\n",
    "np.save(\"./high_name\",high_ar)\n",
    "    "
   ]
  },
  {
   "cell_type": "code",
   "execution_count": 3,
   "metadata": {},
   "outputs": [
    {
     "name": "stdout",
     "output_type": "stream",
     "text": [
      "2526\n"
     ]
    }
   ],
   "source": [
    "path = \"/home/guest1/ellen_data/UKB_quality_data2_combined\"\n",
    "\n",
    "low =[]\n",
    "for img in os.listdir(path+\"/\"+\"low_Q\"):\n",
    "    # print(img)\n",
    "    low +=[img]\n",
    "\n",
    "print(len(low))\n",
    "low_ar = np.array(low)\n",
    "np.save(\"./low_name\",low_ar)\n",
    "    "
   ]
  },
  {
   "cell_type": "markdown",
   "metadata": {},
   "source": [
    "#### 0-1. high, low 에서 eid만 뽑아오기"
   ]
  },
  {
   "cell_type": "code",
   "execution_count": 4,
   "metadata": {},
   "outputs": [
    {
     "name": "stdout",
     "output_type": "stream",
     "text": [
      "8020\n"
     ]
    }
   ],
   "source": [
    "high_eid=[]\n",
    "count =0\n",
    "for imgname in high:\n",
    "   eid=imgname.split(\"_\")[0]\n",
    "   high_eid +=[eid]\n",
    "print(len(high_eid))\n",
    "\n",
    "high_eid_ar = np.array(high_eid)\n",
    "np.save(\"./high_eid\",high_eid_ar)\n"
   ]
  },
  {
   "cell_type": "code",
   "execution_count": 5,
   "metadata": {},
   "outputs": [
    {
     "name": "stdout",
     "output_type": "stream",
     "text": [
      "2526\n"
     ]
    }
   ],
   "source": [
    "low_eid=[]\n",
    "count =0\n",
    "for imgname in low:\n",
    "   eid=imgname.split(\"_\")[0]\n",
    "   low_eid +=[eid]\n",
    "print(len(low_eid))\n",
    "\n",
    "low_eid_ar = np.array(low_eid)\n",
    "np.save(\"./low_eid\",low_eid_ar)\n"
   ]
  },
  {
   "cell_type": "markdown",
   "metadata": {},
   "source": [
    "#### 0-2. high, low 에서 eid 쭝복된 것 있는지  \n",
    "--> 중복된 것 존재"
   ]
  },
  {
   "cell_type": "code",
   "execution_count": 6,
   "metadata": {},
   "outputs": [
    {
     "name": "stdout",
     "output_type": "stream",
     "text": [
      "False\n",
      "8020\n",
      "7588\n"
     ]
    }
   ],
   "source": [
    "high_eid_set = set(high_eid)\n",
    "print(len(high_eid_set) == len(high_eid))\n",
    "print(len(high_eid))\n",
    "print(len(high_eid_set))"
   ]
  },
  {
   "cell_type": "code",
   "execution_count": 7,
   "metadata": {},
   "outputs": [
    {
     "name": "stdout",
     "output_type": "stream",
     "text": [
      "False\n",
      "2526\n",
      "2443\n"
     ]
    }
   ],
   "source": [
    "low_eid_set = set(low_eid)\n",
    "print(len(low_eid_set) == len(low_eid))\n",
    "print(len(low_eid))\n",
    "print(len(low_eid_set))"
   ]
  },
  {
   "cell_type": "markdown",
   "metadata": {},
   "source": [
    "---\n",
    "#### 1. csv 파일 총 image 수 확인   \n",
    "--> csv파일의 eid는 중복 없음"
   ]
  },
  {
   "cell_type": "code",
   "execution_count": 8,
   "metadata": {},
   "outputs": [],
   "source": [
    "aha_df = pd.read_csv(\"/home/guest1/UKB_AHA_event.csv\")"
   ]
  },
  {
   "cell_type": "markdown",
   "metadata": {},
   "source": [
    "eid를 string type으로 바꿔주기, UKB hq,lq에 있는 type과 맞춰주기 위해서"
   ]
  },
  {
   "cell_type": "code",
   "execution_count": 92,
   "metadata": {},
   "outputs": [],
   "source": [
    "df_len = len(aha_df)\n",
    "aha_df['eid']=aha_df['eid'].astype(str)"
   ]
  },
  {
   "cell_type": "markdown",
   "metadata": {},
   "source": [
    "1-1. 중복된 image명 있는지 확인\n"
   ]
  },
  {
   "cell_type": "code",
   "execution_count": 85,
   "metadata": {},
   "outputs": [
    {
     "name": "stdout",
     "output_type": "stream",
     "text": [
      "67288\n",
      ">>> image 명(eid) 중복 없음\n"
     ]
    }
   ],
   "source": [
    "aha_df.drop_duplicates([\"eid\"])\n",
    "print(len(aha_df))\n",
    "if df_len ==len(aha_df):\n",
    "    print(\">>> image 명(eid) 중복 없음\")\n",
    "else: \n",
    "    print(\">>> image 명(eid) 중복 있음!!!\")"
   ]
  },
  {
   "cell_type": "markdown",
   "metadata": {},
   "source": [
    "---\n",
    "#### 2. csv파일에 있는 이미지들 어디에 있는 것인지 확인 - h,l\n",
    "hl_csv의 열 (1) eid, (2) high, (3) low (4) AHA_event  \n",
    "아래 block 실행하는데 오래 걸림"
   ]
  },
  {
   "cell_type": "code",
   "execution_count": 18,
   "metadata": {},
   "outputs": [],
   "source": [
    "import time\n",
    "from tqdm import tqdm"
   ]
  },
  {
   "cell_type": "code",
   "execution_count": 95,
   "metadata": {},
   "outputs": [
    {
     "name": "stderr",
     "output_type": "stream",
     "text": [
      "100%|██████████| 67288/67288 [03:35<00:00, 312.19it/s]\n"
     ]
    }
   ],
   "source": [
    "hl_csv = pd.DataFrame(columns=['eid', \"high\", \"low\", \"AHA_event\"])\n",
    "for i in tqdm(range(df_len)):\n",
    "    h=l=0                           \n",
    "    eid = aha_df.iloc[i,0]\n",
    "    disease = aha_df.iloc[i,1]\n",
    "    hl_csv.loc[i] =[eid, eid in high_eid, eid in low_eid, disease]"
   ]
  },
  {
   "cell_type": "code",
   "execution_count": 96,
   "metadata": {},
   "outputs": [],
   "source": [
    "hl_csv.to_csv(\"./AHA_hqlq.cvs\")"
   ]
  },
  {
   "cell_type": "code",
   "execution_count": 97,
   "metadata": {},
   "outputs": [
    {
     "name": "stdout",
     "output_type": "stream",
     "text": [
      "67288\n",
      "True\n"
     ]
    }
   ],
   "source": [
    "print(len(hl_csv))\n",
    "print(len(hl_csv)==df_len)"
   ]
  },
  {
   "cell_type": "markdown",
   "metadata": {},
   "source": [
    "UKB_quality_data & UKB_quality_data2 합친 것 (UKB_quality_data2_combined)에 포함되어있는 데이터  \n",
    "즉, quality data 중 AHA label이 있는 것"
   ]
  },
  {
   "cell_type": "code",
   "execution_count": 99,
   "metadata": {},
   "outputs": [
    {
     "name": "stdout",
     "output_type": "stream",
     "text": [
      " # of high quality data in 'eye_label':  7540\n",
      " # of low quality data in 'eye_label':  2413\n",
      "===================================\n",
      "# of high + low quality data in 'eye_lable':  9953 / 67288\n"
     ]
    }
   ],
   "source": [
    "print(\" # of high quality data in 'eye_label': \" ,len(hl_csv[hl_csv['high'] ==True]))\n",
    "print(\" # of low quality data in 'eye_label': \" ,len(hl_csv[hl_csv['low'] ==True]))\n",
    "print(\"===================================\")\n",
    "print(\"# of high + low quality data in 'eye_lable': \",len(hl_csv[hl_csv['high'] ==True])+len(hl_csv[hl_csv['low'] ==True]),\"/\",df_len )"
   ]
  },
  {
   "cell_type": "markdown",
   "metadata": {},
   "source": [
    "---\n",
    "#### 2-1. csv파일에 있는 이미지들 어디에 있는 것인지 확인 - all"
   ]
  },
  {
   "cell_type": "code",
   "execution_count": 94,
   "metadata": {},
   "outputs": [
    {
     "name": "stderr",
     "output_type": "stream",
     "text": [
      "100%|██████████| 67288/67288 [00:42<00:00, 1595.05it/s]"
     ]
    },
    {
     "name": "stdout",
     "output_type": "stream",
     "text": [
      "file in ALL:  67288 / 67288\n"
     ]
    },
    {
     "name": "stderr",
     "output_type": "stream",
     "text": [
      "\n"
     ]
    }
   ],
   "source": [
    "count =0\n",
    "for i in tqdm(range(df_len)):\n",
    "    eid = aha_df.iloc[i,0]\n",
    "    if eid in all_eid_ar:\n",
    "        count+=1\n",
    "print(\"file in ALL: \",count,\"/\",df_len)"
   ]
  },
  {
   "cell_type": "markdown",
   "metadata": {},
   "source": [
    "---\n",
    "#### 2-2. AHA event happend"
   ]
  },
  {
   "cell_type": "code",
   "execution_count": 54,
   "metadata": {},
   "outputs": [
    {
     "data": {
      "text/html": [
       "<div>\n",
       "<style scoped>\n",
       "    .dataframe tbody tr th:only-of-type {\n",
       "        vertical-align: middle;\n",
       "    }\n",
       "\n",
       "    .dataframe tbody tr th {\n",
       "        vertical-align: top;\n",
       "    }\n",
       "\n",
       "    .dataframe thead th {\n",
       "        text-align: right;\n",
       "    }\n",
       "</style>\n",
       "<table border=\"1\" class=\"dataframe\">\n",
       "  <thead>\n",
       "    <tr style=\"text-align: right;\">\n",
       "      <th></th>\n",
       "      <th>eid</th>\n",
       "      <th>all_AHA_event</th>\n",
       "      <th>all_AHA_event_year</th>\n",
       "    </tr>\n",
       "  </thead>\n",
       "  <tbody>\n",
       "    <tr>\n",
       "      <th>2</th>\n",
       "      <td>1000326</td>\n",
       "      <td>1</td>\n",
       "      <td>8.005476</td>\n",
       "    </tr>\n",
       "    <tr>\n",
       "      <th>15</th>\n",
       "      <td>1001397</td>\n",
       "      <td>1</td>\n",
       "      <td>2.696783</td>\n",
       "    </tr>\n",
       "    <tr>\n",
       "      <th>32</th>\n",
       "      <td>1002799</td>\n",
       "      <td>1</td>\n",
       "      <td>6.464066</td>\n",
       "    </tr>\n",
       "    <tr>\n",
       "      <th>60</th>\n",
       "      <td>1005431</td>\n",
       "      <td>1</td>\n",
       "      <td>5.869952</td>\n",
       "    </tr>\n",
       "    <tr>\n",
       "      <th>73</th>\n",
       "      <td>1006046</td>\n",
       "      <td>1</td>\n",
       "      <td>9.519507</td>\n",
       "    </tr>\n",
       "    <tr>\n",
       "      <th>...</th>\n",
       "      <td>...</td>\n",
       "      <td>...</td>\n",
       "      <td>...</td>\n",
       "    </tr>\n",
       "    <tr>\n",
       "      <th>67135</th>\n",
       "      <td>6014023</td>\n",
       "      <td>1</td>\n",
       "      <td>3.383984</td>\n",
       "    </tr>\n",
       "    <tr>\n",
       "      <th>67150</th>\n",
       "      <td>6014987</td>\n",
       "      <td>1</td>\n",
       "      <td>7.411362</td>\n",
       "    </tr>\n",
       "    <tr>\n",
       "      <th>67197</th>\n",
       "      <td>6017703</td>\n",
       "      <td>1</td>\n",
       "      <td>7.214237</td>\n",
       "    </tr>\n",
       "    <tr>\n",
       "      <th>67261</th>\n",
       "      <td>6022531</td>\n",
       "      <td>1</td>\n",
       "      <td>8.104038</td>\n",
       "    </tr>\n",
       "    <tr>\n",
       "      <th>67273</th>\n",
       "      <td>6024025</td>\n",
       "      <td>1</td>\n",
       "      <td>6.803559</td>\n",
       "    </tr>\n",
       "  </tbody>\n",
       "</table>\n",
       "<p>2652 rows × 3 columns</p>\n",
       "</div>"
      ],
      "text/plain": [
       "           eid  all_AHA_event  all_AHA_event_year\n",
       "2      1000326              1            8.005476\n",
       "15     1001397              1            2.696783\n",
       "32     1002799              1            6.464066\n",
       "60     1005431              1            5.869952\n",
       "73     1006046              1            9.519507\n",
       "...        ...            ...                 ...\n",
       "67135  6014023              1            3.383984\n",
       "67150  6014987              1            7.411362\n",
       "67197  6017703              1            7.214237\n",
       "67261  6022531              1            8.104038\n",
       "67273  6024025              1            6.803559\n",
       "\n",
       "[2652 rows x 3 columns]"
      ]
     },
     "execution_count": 54,
     "metadata": {},
     "output_type": "execute_result"
    }
   ],
   "source": [
    "eventt_df = aha_df[aha_df[\"all_AHA_event\"]==1]\n",
    "eventt_df"
   ]
  },
  {
   "cell_type": "code",
   "execution_count": null,
   "metadata": {},
   "outputs": [],
   "source": []
  }
 ],
 "metadata": {
  "kernelspec": {
   "display_name": "Python 3.7.11 ('ellen')",
   "language": "python",
   "name": "python3"
  },
  "language_info": {
   "codemirror_mode": {
    "name": "ipython",
    "version": 3
   },
   "file_extension": ".py",
   "mimetype": "text/x-python",
   "name": "python",
   "nbconvert_exporter": "python",
   "pygments_lexer": "ipython3",
   "version": "3.7.11"
  },
  "orig_nbformat": 4,
  "vscode": {
   "interpreter": {
    "hash": "3c3950bbb9a950eb47d8a75acd6763af5a1f1384c3fdf1d037958b44751d1fbe"
   }
  }
 },
 "nbformat": 4,
 "nbformat_minor": 2
}
